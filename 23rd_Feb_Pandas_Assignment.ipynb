{
 "cells": [
  {
   "cell_type": "markdown",
   "id": "45f13d4c",
   "metadata": {},
   "source": [
    "### Q1. Create a Pandas Series that contains the following data: 4, 8, 15, 16, 23, and 42. Then, print the series."
   ]
  },
  {
   "cell_type": "code",
   "execution_count": 1,
   "id": "bc3b7d6c",
   "metadata": {},
   "outputs": [
    {
     "name": "stdout",
     "output_type": "stream",
     "text": [
      "0     4\n",
      "1     8\n",
      "2    15\n",
      "3    16\n",
      "4    23\n",
      "5    42\n",
      "dtype: int64\n"
     ]
    }
   ],
   "source": [
    "import pandas as pd\n",
    "\n",
    "data = [4, 8, 15, 16, 23, 42]\n",
    "series = pd.Series(data)\n",
    "print(series)"
   ]
  },
  {
   "cell_type": "markdown",
   "id": "3114ca47",
   "metadata": {},
   "source": [
    "### Q2. Create a variable of list type containing 10 elements in it, and apply pandas. Series function on the variable print it."
   ]
  },
  {
   "cell_type": "code",
   "execution_count": 2,
   "id": "d673327e",
   "metadata": {},
   "outputs": [
    {
     "name": "stdout",
     "output_type": "stream",
     "text": [
      "0     10\n",
      "1     20\n",
      "2     30\n",
      "3     40\n",
      "4     50\n",
      "5     60\n",
      "6     70\n",
      "7     80\n",
      "8     90\n",
      "9    100\n",
      "dtype: int64\n"
     ]
    }
   ],
   "source": [
    "import pandas as pd\n",
    "\n",
    "my_list = [10, 20, 30, 40, 50, 60, 70, 80, 90, 100]\n",
    "my_series = pd.Series(my_list)\n",
    "print(my_series)"
   ]
  },
  {
   "attachments": {
    "Screenshot%202023-02-25%20161641.jpg": {
     "image/jpeg": "[encoded data removed]"
    }
   },
   "cell_type": "markdown",
   "id": "237bbfdf",
   "metadata": {},
   "source": [
    "### Q3. Create a Pandas DataFrame that contains the following data:\n",
    "![Screenshot%202023-02-25%20161641.jpg](attachment:Screenshot%202023-02-25%20161641.jpg)"
   ]
  },
  {
   "cell_type": "code",
   "execution_count": 3,
   "id": "90781e7e",
   "metadata": {},
   "outputs": [
    {
     "name": "stdout",
     "output_type": "stream",
     "text": [
      "     Name  Age  Gender\n",
      "0   Alice   25  Female\n",
      "1     Bob   30    Male\n",
      "2  Claire   27  Female\n"
     ]
    }
   ],
   "source": [
    "import pandas as pd\n",
    "\n",
    "data = {'Name': ['Alice', 'Bob', 'Claire'], \n",
    "        'Age': [25, 30, 27], \n",
    "        'Gender': ['Female', 'Male', 'Female']}\n",
    "df = pd.DataFrame(data)\n",
    "print(df)"
   ]
  },
  {
   "cell_type": "markdown",
   "id": "4464e04c",
   "metadata": {},
   "source": [
    "### Q4. What is ‘DataFrame’ in pandas and how is it different from pandas.series? Explain with an example."
   ]
  },
  {
   "cell_type": "markdown",
   "id": "353ece45",
   "metadata": {},
   "source": [
    "#### In Pandas, a DataFrame is a two-dimensional, size-mutable, tabular data structure with rows and columns. It is similar to a spreadsheet or a SQL table. In a DataFrame, the rows are identified by an index, and each column can have a different data type. A DataFrame is the most commonly used Pandas object.\n",
    "\n",
    "#### A Series in Pandas, on the other hand, is a one-dimensional, labeled array capable of holding data of any type. It is like a column in a DataFrame or a single list with an index.\n",
    "\n",
    "#### Here's an example that illustrates the difference between a Series and a DataFrame:"
   ]
  },
  {
   "cell_type": "code",
   "execution_count": 5,
   "id": "76cf2492",
   "metadata": {},
   "outputs": [
    {
     "name": "stdout",
     "output_type": "stream",
     "text": [
      "0        Apple\n",
      "1       Banana\n",
      "2        Mango\n",
      "3       Orange\n",
      "4    Pineapple\n",
      "dtype: object\n"
     ]
    }
   ],
   "source": [
    "import pandas as pd\n",
    "\n",
    "# Example 1: Creating a Series\n",
    "fruits = pd.Series(['Apple', 'Banana', 'Mango', 'Orange', 'Pineapple'])\n",
    "print(fruits)"
   ]
  },
  {
   "cell_type": "code",
   "execution_count": 6,
   "id": "5fb36e5a",
   "metadata": {},
   "outputs": [
    {
     "name": "stdout",
     "output_type": "stream",
     "text": [
      "     Name  Age  Gender\n",
      "0   Alice   25  Female\n",
      "1     Bob   30    Male\n",
      "2  Claire   27  Female\n"
     ]
    }
   ],
   "source": [
    "# Example 2: Creating a DataFrame\n",
    "data = {'Name': ['Alice', 'Bob', 'Claire'],\n",
    "        'Age': [25, 30, 27],\n",
    "        'Gender': ['Female', 'Male', 'Female']}\n",
    "df = pd.DataFrame(data)\n",
    "print(df)"
   ]
  },
  {
   "cell_type": "markdown",
   "id": "22d77a61",
   "metadata": {},
   "source": [
    "### Q5. What are some common functions you can use to manipulate data in a Pandas DataFrame? Can you give an example of when you might use one of these functions?"
   ]
  },
  {
   "cell_type": "markdown",
   "id": "1b575077",
   "metadata": {},
   "source": [
    "#### Pandas provides a wide range of functions for manipulating data in a DataFrame. Some of the common functions are:\n",
    "\n",
    "###### head() and tail(): These functions are used to display the first n rows (by default n=5) and last n rows of the DataFrame respectively. For example, to display the first 3 rows of a DataFrame called df, you can use df.head(3).\n",
    "\n",
    "###### info(): This function provides information about the DataFrame such as the number of rows and columns, column names, data types, and memory usage. For example, to display information about a DataFrame called df, you can use df.info().\n",
    "\n",
    "###### describe(): This function provides summary statistics of the DataFrame such as count, mean, standard deviation, minimum and maximum values, and quartiles. For example, to display summary statistics of a DataFrame called df, you can use df.describe().\n",
    "\n",
    "###### drop(): This function is used to drop rows or columns from the DataFrame. For example, to drop the column called Age from a DataFrame called df, you can use df.drop('Age', axis=1).\n",
    "\n",
    "###### groupby(): This function is used to group the DataFrame by one or more columns and perform some aggregation function such as sum, mean, count, etc. For example, to group a DataFrame called df by the column called Gender and calculate the mean of the Age column for each group, you can use df.groupby('Gender')['Age'].mean()."
   ]
  },
  {
   "cell_type": "markdown",
   "id": "26dda425",
   "metadata": {},
   "source": [
    "### Q6. Which of the following is mutable in nature Series, DataFrame, Panel?"
   ]
  },
  {
   "cell_type": "markdown",
   "id": "dfe76129",
   "metadata": {},
   "source": [
    "#### In pandas, Series and DataFrame are mutable in nature, while Panel is immutable.\n",
    "\n",
    "#### A mutable object is one that can be modified after it is created, whereas an immutable object cannot be modified once it is created.\n",
    "\n",
    "#### For example, you can modify the values in a Series or DataFrame by assigning new values to specific rows or columns using indexing or slicing. However, you cannot modify the values in a Panel once it is created. Instead, you can only create a new Panel with the modified values."
   ]
  },
  {
   "cell_type": "markdown",
   "id": "a6007109",
   "metadata": {},
   "source": [
    "### Q7. Create a DataFrame using multiple Series. Explain with an example."
   ]
  },
  {
   "cell_type": "markdown",
   "id": "92fd57f5",
   "metadata": {},
   "source": [
    "#### We can create a DataFrame using multiple Series by passing them as a dictionary to the DataFrame constructor. The keys of the dictionary will become the column names of the DataFrame, and the values will become the Series."
   ]
  },
  {
   "cell_type": "code",
   "execution_count": 9,
   "id": "a61e3745",
   "metadata": {},
   "outputs": [
    {
     "name": "stdout",
     "output_type": "stream",
     "text": [
      "     Name  Age  Gender\n",
      "0   Alice   25  Female\n",
      "1     Bob   30    Male\n",
      "2  Claire   27  Female\n"
     ]
    }
   ],
   "source": [
    "import pandas as pd\n",
    "\n",
    "# create the Series\n",
    "names = pd.Series(['Alice', 'Bob', 'Claire'])\n",
    "ages = pd.Series([25, 30, 27])\n",
    "genders = pd.Series(['Female', 'Male', 'Female'])\n",
    "\n",
    "# create the DataFrame using the Series\n",
    "data = {'Name': names, 'Age': ages, 'Gender': genders}\n",
    "df = pd.DataFrame(data)\n",
    "\n",
    "print(df)"
   ]
  },
  {
   "cell_type": "code",
   "execution_count": null,
   "id": "5a017a0a",
   "metadata": {},
   "outputs": [],
   "source": []
  }
 ],
 "metadata": {
  "kernelspec": {
   "display_name": "Python 3 (ipykernel)",
   "language": "python",
   "name": "python3"
  },
  "language_info": {
   "codemirror_mode": {
    "name": "ipython",
    "version": 3
   },
   "file_extension": ".py",
   "mimetype": "text/x-python",
   "name": "python",
   "nbconvert_exporter": "python",
   "pygments_lexer": "ipython3",
   "version": "3.9.13"
  }
 },
 "nbformat": 4,
 "nbformat_minor": 5
}
